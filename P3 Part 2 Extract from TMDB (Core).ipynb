{
 "cells": [
  {
   "cell_type": "markdown",
   "id": "31d59b66",
   "metadata": {},
   "source": [
    "## Your Stakeholder Wants More Data!\n"
   ]
  },
  {
   "cell_type": "markdown",
   "id": "004459c4",
   "metadata": {},
   "source": [
    "After investigating the preview of your data from Part 1, your stakeholder realized that there is no financial information included in the IMDB data (e.g. budget or revenue).\n",
    "\n",
    "   - This will be a major roadblock when attempting to analyze which movies are successful and must be addressed before you will be able to determine which movies are successful.\n",
    "\n",
    "   - Your stakeholder identified The Movie Database (TMDB) as a great source of financial data (https://www.themoviedb.org/). Thankfully, TMDB offers a free API for programmatic access to their data!\n",
    "\n",
    "   - Your stakeholder wants you to extract the budget, revenue, and MPAA Rating (G/PG/PG-13/R), which is also called \"Certification\".\n",
    "\n",
    "   - Note: this process can take a long time and may need to run overnight."
   ]
  },
  {
   "cell_type": "markdown",
   "id": "b34d2f68",
   "metadata": {},
   "source": [
    "## Specification - Financial Data"
   ]
  },
  {
   "cell_type": "markdown",
   "id": "56a7f9ab",
   "metadata": {},
   "source": [
    "Your stakeholder would like you to extract and save the results for movies that meet all of the criteria established in part 1 of the project (You should already have a filtered dataframe saved from part one as a csv.gz file)\n",
    "\n",
    "   - As a proof-of-concept, they requested you perform a test extraction of movies that started in 2000 or 2001\n",
    "\n",
    "   - Each year should be saved as a separate .csv.gz file\n",
    "\n",
    "Hint: Use the two custom functions from the lessons (Intro to TMDB API, and Efficient TMDB API Calls). Be sure to define these functions prior to calling them in your code!\n",
    "\n",
    "   - One function will add the certification (MPGG Rating) to movie.info\n",
    "   - The other function will help you append/extend a JSON file with Python\n",
    "\n",
    "\n",
    "### Confirm Your API Function works.\n",
    "\n",
    "In order to ensure your function for extracting movie data from TMDB is working, test your function on these 2 movie ids: tt0848228 (\"The Avengers\") and tt0332280 (\"The Notebook\"). Make sure that your function runs without error and that it returns the correct movie's data for both test ids.\n",
    "\n",
    "Hint: Ideally you can organize the code segments from the previous lesson to create an outer and inner loop, but if you get stuck, you can complete 1 year at a time.\n",
    "\n",
    " - Once you have retrieved and saved the final results to 2 separate .csv.gz files, move on to a new Exploratory Data Analysis notebook to explore the following questions.\n"
   ]
  },
  {
   "cell_type": "markdown",
   "id": "25a2640d",
   "metadata": {},
   "source": [
    "## Exploratory Data Analysis"
   ]
  },
  {
   "cell_type": "markdown",
   "id": "b64111c6",
   "metadata": {},
   "source": [
    "- Load in your csv.gz's of results for each year extracted.\n",
    "    1. Concatenate the data into 1 dataframe for the remainder of the analysis.\n",
    "- Once you have your data from the API, they would like you to perform some light EDA to show:\n",
    "    1. How many movies had at least some valid financial information (values > 0 for budget OR revenue)?\n",
    "     - Please exclude any movies with 0's for budget AND revenue from the remaining visualizations.\n",
    "    2. How many movies are there in each of the certification categories (G/PG/PG-13/R)?\n",
    "    3. What is the average revenue per certification category?\n",
    "    4. What is the average budget per certification category?"
   ]
  },
  {
   "cell_type": "markdown",
   "id": "0507118e",
   "metadata": {},
   "source": [
    "## Deliverables"
   ]
  },
  {
   "cell_type": "markdown",
   "id": "554b1ab7",
   "metadata": {},
   "source": [
    "After you have joined the tmdb results into 1 dataframe in the EDA Notebook,\n",
    "\n",
    "- Save a final merged .csv.gz of all of the tmdb api data\n",
    "- The file name should be \"tmdb_results_combined.csv.gz\"\n",
    "- Make sure this is pushed to your github repository along with all of your code\n",
    "    - One code file for API calls\n",
    "    - One code file for EDA\n",
    "- Submit the link"
   ]
  },
  {
   "cell_type": "markdown",
   "id": "5f32966f",
   "metadata": {},
   "source": [
    "---"
   ]
  },
  {
   "cell_type": "markdown",
   "id": "f92bf8a1",
   "metadata": {},
   "source": [
    "## Using the TMDB API"
   ]
  },
  {
   "cell_type": "code",
   "execution_count": 17,
   "id": "2e355c5d",
   "metadata": {},
   "outputs": [
    {
     "name": "stdout",
     "output_type": "stream",
     "text": [
      "Requirement already satisfied: tmdbsimple in c:\\users\\valma\\anaconda3\\envs\\dojo-env\\lib\\site-packages (2.9.1)\n",
      "Requirement already satisfied: requests in c:\\users\\valma\\anaconda3\\envs\\dojo-env\\lib\\site-packages (from tmdbsimple) (2.28.1)\n",
      "Requirement already satisfied: idna<4,>=2.5 in c:\\users\\valma\\anaconda3\\envs\\dojo-env\\lib\\site-packages (from requests->tmdbsimple) (3.4)\n",
      "Requirement already satisfied: urllib3<1.27,>=1.21.1 in c:\\users\\valma\\anaconda3\\envs\\dojo-env\\lib\\site-packages (from requests->tmdbsimple) (1.26.13)\n",
      "Requirement already satisfied: charset-normalizer<3,>=2 in c:\\users\\valma\\anaconda3\\envs\\dojo-env\\lib\\site-packages (from requests->tmdbsimple) (2.0.4)\n",
      "Requirement already satisfied: certifi>=2017.4.17 in c:\\users\\valma\\anaconda3\\envs\\dojo-env\\lib\\site-packages (from requests->tmdbsimple) (2022.9.24)\n"
     ]
    }
   ],
   "source": [
    "!pip install tmdbsimple"
   ]
  },
  {
   "cell_type": "code",
   "execution_count": 18,
   "id": "1b1beb1c",
   "metadata": {},
   "outputs": [
    {
     "data": {
      "text/plain": [
       "dict_keys(['client-id', 'api-key'])"
      ]
     },
     "execution_count": 18,
     "metadata": {},
     "output_type": "execute_result"
    }
   ],
   "source": [
    "import json\n",
    "with open('/Users/valma/.secret/tmdb_api.json', 'r') as f:\n",
    "    login = json.load(f)\n",
    "\n",
    "login.keys()"
   ]
  },
  {
   "cell_type": "code",
   "execution_count": 19,
   "id": "b88bf4db",
   "metadata": {},
   "outputs": [],
   "source": [
    "import tmdbsimple as tmdb\n",
    "tmdb.API_KEY =  login['api-key']"
   ]
  },
  {
   "cell_type": "code",
   "execution_count": 20,
   "id": "445c1d27",
   "metadata": {},
   "outputs": [
    {
     "data": {
      "text/plain": [
       "<tmdbsimple.movies.Movies at 0x2a32a35b550>"
      ]
     },
     "execution_count": 20,
     "metadata": {},
     "output_type": "execute_result"
    }
   ],
   "source": [
    "movie = tmdb.Movies(603)\n",
    "movie"
   ]
  },
  {
   "cell_type": "code",
   "execution_count": 21,
   "id": "7783fd39",
   "metadata": {},
   "outputs": [
    {
     "data": {
      "text/plain": [
       "{'adult': False,\n",
       " 'backdrop_path': '/oMsxZEvz9a708d49b6UdZK1KAo5.jpg',\n",
       " 'belongs_to_collection': {'id': 2344,\n",
       "  'name': 'The Matrix Collection',\n",
       "  'poster_path': '/bV9qTVHTVf0gkW0j7p7M0ILD4pG.jpg',\n",
       "  'backdrop_path': '/bRm2DEgUiYciDw3myHuYFInD7la.jpg'},\n",
       " 'budget': 63000000,\n",
       " 'genres': [{'id': 28, 'name': 'Action'},\n",
       "  {'id': 878, 'name': 'Science Fiction'}],\n",
       " 'homepage': 'http://www.warnerbros.com/matrix',\n",
       " 'id': 603,\n",
       " 'imdb_id': 'tt0133093',\n",
       " 'original_language': 'en',\n",
       " 'original_title': 'The Matrix',\n",
       " 'overview': 'Set in the 22nd century, The Matrix tells the story of a computer hacker who joins a group of underground insurgents fighting the vast and powerful computers who now rule the earth.',\n",
       " 'popularity': 85.033,\n",
       " 'poster_path': '/f89U3ADr1oiB1s9GkdPOEpXUk5H.jpg',\n",
       " 'production_companies': [{'id': 79,\n",
       "   'logo_path': '/tpFpsqbleCzEE2p5EgvUq6ozfCA.png',\n",
       "   'name': 'Village Roadshow Pictures',\n",
       "   'origin_country': 'US'},\n",
       "  {'id': 372,\n",
       "   'logo_path': None,\n",
       "   'name': 'Groucho II Film Partnership',\n",
       "   'origin_country': ''},\n",
       "  {'id': 1885,\n",
       "   'logo_path': '/xlvoOZr4s1PygosrwZyolIFe5xs.png',\n",
       "   'name': 'Silver Pictures',\n",
       "   'origin_country': 'US'},\n",
       "  {'id': 174,\n",
       "   'logo_path': '/IuAlhI9eVC9Z8UQWOIDdWRKSEJ.png',\n",
       "   'name': 'Warner Bros. Pictures',\n",
       "   'origin_country': 'US'}],\n",
       " 'production_countries': [{'iso_3166_1': 'US',\n",
       "   'name': 'United States of America'}],\n",
       " 'release_date': '1999-03-30',\n",
       " 'revenue': 463517383,\n",
       " 'runtime': 136,\n",
       " 'spoken_languages': [{'english_name': 'English',\n",
       "   'iso_639_1': 'en',\n",
       "   'name': 'English'}],\n",
       " 'status': 'Released',\n",
       " 'tagline': 'Welcome to the Real World.',\n",
       " 'title': 'The Matrix',\n",
       " 'video': False,\n",
       " 'vote_average': 8.204,\n",
       " 'vote_count': 23431}"
      ]
     },
     "execution_count": 21,
     "metadata": {},
     "output_type": "execute_result"
    }
   ],
   "source": [
    "info = movie.info()\n",
    "info"
   ]
  },
  {
   "cell_type": "code",
   "execution_count": 22,
   "id": "becad645",
   "metadata": {},
   "outputs": [
    {
     "data": {
      "text/plain": [
       "63000000"
      ]
     },
     "execution_count": 22,
     "metadata": {},
     "output_type": "execute_result"
    }
   ],
   "source": [
    "info['budget']"
   ]
  },
  {
   "cell_type": "code",
   "execution_count": 23,
   "id": "7ce02bb1",
   "metadata": {},
   "outputs": [
    {
     "data": {
      "text/plain": [
       "463517383"
      ]
     },
     "execution_count": 23,
     "metadata": {},
     "output_type": "execute_result"
    }
   ],
   "source": [
    "info['revenue']"
   ]
  },
  {
   "cell_type": "code",
   "execution_count": 24,
   "id": "120d575c",
   "metadata": {},
   "outputs": [
    {
     "data": {
      "text/plain": [
       "'tt0133093'"
      ]
     },
     "execution_count": 24,
     "metadata": {},
     "output_type": "execute_result"
    }
   ],
   "source": [
    "info['imdb_id']"
   ]
  },
  {
   "cell_type": "code",
   "execution_count": 25,
   "id": "e4988f75",
   "metadata": {},
   "outputs": [
    {
     "data": {
      "text/plain": [
       "50000000"
      ]
     },
     "execution_count": 25,
     "metadata": {},
     "output_type": "execute_result"
    }
   ],
   "source": [
    "movie = tmdb.Movies('tt1361336')\n",
    "info = movie.info()\n",
    "info['budget']"
   ]
  },
  {
   "cell_type": "code",
   "execution_count": 26,
   "id": "dfbe109b",
   "metadata": {},
   "outputs": [],
   "source": [
    "response = movie.releases()"
   ]
  },
  {
   "cell_type": "code",
   "execution_count": 27,
   "id": "36a02d4e",
   "metadata": {},
   "outputs": [
    {
     "data": {
      "text/plain": [
       "{'id': 587807,\n",
       " 'countries': [{'certification': '',\n",
       "   'descriptors': [],\n",
       "   'iso_3166_1': 'CO',\n",
       "   'primary': False,\n",
       "   'release_date': '2021-02-12'},\n",
       "  {'certification': 'PG',\n",
       "   'descriptors': [],\n",
       "   'iso_3166_1': 'US',\n",
       "   'primary': False,\n",
       "   'release_date': '2021-02-26'},\n",
       "  {'certification': 'ALL',\n",
       "   'descriptors': [],\n",
       "   'iso_3166_1': 'KR',\n",
       "   'primary': False,\n",
       "   'release_date': '2021-02-24'},\n",
       "  {'certification': '',\n",
       "   'descriptors': [],\n",
       "   'iso_3166_1': 'ID',\n",
       "   'primary': False,\n",
       "   'release_date': '2021-03-10'},\n",
       "  {'certification': '6',\n",
       "   'descriptors': [],\n",
       "   'iso_3166_1': 'NL',\n",
       "   'primary': False,\n",
       "   'release_date': '2021-06-09'},\n",
       "  {'certification': 'G',\n",
       "   'descriptors': [],\n",
       "   'iso_3166_1': 'IE',\n",
       "   'primary': False,\n",
       "   'release_date': '2021-05-07'},\n",
       "  {'certification': 'M/6',\n",
       "   'descriptors': [],\n",
       "   'iso_3166_1': 'PT',\n",
       "   'primary': False,\n",
       "   'release_date': '2021-03-04'},\n",
       "  {'certification': '6+',\n",
       "   'descriptors': [],\n",
       "   'iso_3166_1': 'RU',\n",
       "   'primary': False,\n",
       "   'release_date': '2021-02-25'},\n",
       "  {'certification': 'L',\n",
       "   'descriptors': [],\n",
       "   'iso_3166_1': 'BR',\n",
       "   'primary': False,\n",
       "   'release_date': '2021-02-11'},\n",
       "  {'certification': '7',\n",
       "   'descriptors': [],\n",
       "   'iso_3166_1': 'DK',\n",
       "   'primary': False,\n",
       "   'release_date': '2021-02-11'},\n",
       "  {'certification': 'G',\n",
       "   'descriptors': [],\n",
       "   'iso_3166_1': 'AU',\n",
       "   'primary': False,\n",
       "   'release_date': '2021-04-01'},\n",
       "  {'certification': '',\n",
       "   'descriptors': [],\n",
       "   'iso_3166_1': 'HK',\n",
       "   'primary': False,\n",
       "   'release_date': '2021-03-11'},\n",
       "  {'certification': 'U',\n",
       "   'descriptors': [],\n",
       "   'iso_3166_1': 'FR',\n",
       "   'primary': False,\n",
       "   'release_date': '2021-05-19'},\n",
       "  {'certification': 'Btl',\n",
       "   'descriptors': [],\n",
       "   'iso_3166_1': 'SE',\n",
       "   'primary': False,\n",
       "   'release_date': '2021-05-28'},\n",
       "  {'certification': '0',\n",
       "   'descriptors': [],\n",
       "   'iso_3166_1': 'DE',\n",
       "   'primary': False,\n",
       "   'release_date': '2021-06-17'},\n",
       "  {'certification': '',\n",
       "   'descriptors': [],\n",
       "   'iso_3166_1': 'CZ',\n",
       "   'primary': False,\n",
       "   'release_date': '2021-06-10'},\n",
       "  {'certification': 'U',\n",
       "   'descriptors': [],\n",
       "   'iso_3166_1': 'SK',\n",
       "   'primary': False,\n",
       "   'release_date': '2021-05-27'},\n",
       "  {'certification': 'V',\n",
       "   'descriptors': [],\n",
       "   'iso_3166_1': 'LT',\n",
       "   'primary': False,\n",
       "   'release_date': '2021-05-07'},\n",
       "  {'certification': '6',\n",
       "   'descriptors': [],\n",
       "   'iso_3166_1': 'HU',\n",
       "   'primary': False,\n",
       "   'release_date': '2021-05-20'},\n",
       "  {'certification': '',\n",
       "   'descriptors': [],\n",
       "   'iso_3166_1': 'PL',\n",
       "   'primary': False,\n",
       "   'release_date': '2021-06-11'},\n",
       "  {'certification': '7',\n",
       "   'descriptors': [],\n",
       "   'iso_3166_1': 'ES',\n",
       "   'primary': False,\n",
       "   'release_date': '2021-03-26'},\n",
       "  {'certification': 'PG',\n",
       "   'descriptors': [],\n",
       "   'iso_3166_1': 'SG',\n",
       "   'primary': False,\n",
       "   'release_date': '2021-02-11'},\n",
       "  {'certification': 'Κ',\n",
       "   'descriptors': [],\n",
       "   'iso_3166_1': 'GR',\n",
       "   'primary': False,\n",
       "   'release_date': '2021-06-10'},\n",
       "  {'certification': '普遍級',\n",
       "   'descriptors': [],\n",
       "   'iso_3166_1': 'TW',\n",
       "   'primary': False,\n",
       "   'release_date': '2021-02-10'},\n",
       "  {'certification': '',\n",
       "   'descriptors': [],\n",
       "   'iso_3166_1': 'KZ',\n",
       "   'primary': False,\n",
       "   'release_date': '2021-02-25'},\n",
       "  {'certification': 'PG',\n",
       "   'descriptors': [],\n",
       "   'iso_3166_1': 'US',\n",
       "   'primary': False,\n",
       "   'release_date': '2021-02-26'},\n",
       "  {'certification': 'PG',\n",
       "   'descriptors': [],\n",
       "   'iso_3166_1': 'GB',\n",
       "   'primary': False,\n",
       "   'release_date': '2021-03-25'},\n",
       "  {'certification': 'G',\n",
       "   'descriptors': [],\n",
       "   'iso_3166_1': 'AU',\n",
       "   'primary': False,\n",
       "   'release_date': '2021-06-01'},\n",
       "  {'certification': 'G',\n",
       "   'descriptors': [],\n",
       "   'iso_3166_1': 'NZ',\n",
       "   'primary': False,\n",
       "   'release_date': '2021-06-01'},\n",
       "  {'certification': 'U',\n",
       "   'descriptors': [],\n",
       "   'iso_3166_1': 'FR',\n",
       "   'primary': False,\n",
       "   'release_date': '2021-09-16'},\n",
       "  {'certification': 'U',\n",
       "   'descriptors': [],\n",
       "   'iso_3166_1': 'FR',\n",
       "   'primary': False,\n",
       "   'release_date': '2022-02-16'},\n",
       "  {'certification': 'PG',\n",
       "   'descriptors': [],\n",
       "   'iso_3166_1': 'GB',\n",
       "   'primary': False,\n",
       "   'release_date': '2021-05-24'},\n",
       "  {'certification': 'G',\n",
       "   'descriptors': [],\n",
       "   'iso_3166_1': 'AU',\n",
       "   'primary': False,\n",
       "   'release_date': '2021-06-21'},\n",
       "  {'certification': 'PG',\n",
       "   'descriptors': [],\n",
       "   'iso_3166_1': 'US',\n",
       "   'primary': False,\n",
       "   'release_date': '2021-05-18'},\n",
       "  {'certification': 'U',\n",
       "   'descriptors': [],\n",
       "   'iso_3166_1': 'FR',\n",
       "   'primary': False,\n",
       "   'release_date': '2021-09-22'},\n",
       "  {'certification': '',\n",
       "   'descriptors': [],\n",
       "   'iso_3166_1': 'GR',\n",
       "   'primary': False,\n",
       "   'release_date': '2021-09-23'},\n",
       "  {'certification': '',\n",
       "   'descriptors': [],\n",
       "   'iso_3166_1': 'CA',\n",
       "   'primary': False,\n",
       "   'release_date': '2021-07-31'}]}"
      ]
     },
     "execution_count": 27,
     "metadata": {},
     "output_type": "execute_result"
    }
   ],
   "source": [
    "response"
   ]
  },
  {
   "cell_type": "code",
   "execution_count": 28,
   "id": "af19abf9",
   "metadata": {},
   "outputs": [
    {
     "name": "stdout",
     "output_type": "stream",
     "text": [
      "PG\n",
      "PG\n",
      "PG\n"
     ]
    }
   ],
   "source": [
    "response = movie.releases()\n",
    "for c in movie.countries:\n",
    "    if c['iso_3166_1'] == 'US':\n",
    "        print(c['certification'])"
   ]
  },
  {
   "cell_type": "code",
   "execution_count": 29,
   "id": "7faa0d61",
   "metadata": {},
   "outputs": [],
   "source": [
    "movie = tmdb.Movies('tt1361336')\n",
    "info = movie.info()\n",
    "releases = movie.releases()\n",
    "    \n",
    "for c in releases['countries']:\n",
    "    if c ['iso_3166_1'] == 'US':\n",
    "        info['certification'] = c['certification']\n",
    "     "
   ]
  },
  {
   "cell_type": "code",
   "execution_count": 30,
   "id": "216dae4d",
   "metadata": {},
   "outputs": [],
   "source": [
    "def get_movie_with_rating(movie_id):\n",
    "    movie = tmdb.Movies('tt1361336')\n",
    "    movie_info = movie.info()\n",
    "    releases = movie.releases()\n",
    "    \n",
    "    for c in releases['countries']:\n",
    "        if c['iso_3166_1'] == 'US':\n",
    "            movie_info['certification'] = c['certification']\n",
    "            \n",
    "    return movie_info"
   ]
  },
  {
   "cell_type": "code",
   "execution_count": 31,
   "id": "3004e966",
   "metadata": {},
   "outputs": [
    {
     "data": {
      "text/plain": [
       "{'adult': False,\n",
       " 'backdrop_path': '/9ns9463dwOeo1CK1JU2wirL5Yi1.jpg',\n",
       " 'belongs_to_collection': None,\n",
       " 'budget': 50000000,\n",
       " 'genres': [{'id': 35, 'name': 'Comedy'},\n",
       "  {'id': 10751, 'name': 'Family'},\n",
       "  {'id': 16, 'name': 'Animation'}],\n",
       " 'homepage': 'https://www.tomandjerrymovie.com',\n",
       " 'id': 587807,\n",
       " 'imdb_id': 'tt1361336',\n",
       " 'original_language': 'en',\n",
       " 'original_title': 'Tom & Jerry',\n",
       " 'overview': 'Tom the cat and Jerry the mouse get kicked out of their home and relocate to a fancy New York hotel, where a scrappy employee named Kayla will lose her job if she can’t evict Jerry before a high-class wedding at the hotel. Her solution? Hiring Tom to get rid of the pesky mouse.',\n",
       " 'popularity': 51.299,\n",
       " 'poster_path': '/8XZI9QZ7Pm3fVkigWJPbrXCMzjq.jpg',\n",
       " 'production_companies': [{'id': 25120,\n",
       "   'logo_path': '/lMj6nMJBOzfLEd2fu8uF530AJcv.png',\n",
       "   'name': 'Warner Bros. Pictures Animation',\n",
       "   'origin_country': 'US'},\n",
       "  {'id': 8922,\n",
       "   'logo_path': '/yZWehAyjfKi4KvKeg1bkJ1bm5H8.png',\n",
       "   'name': 'Turner Entertainment',\n",
       "   'origin_country': 'US'},\n",
       "  {'id': 77061,\n",
       "   'logo_path': None,\n",
       "   'name': 'The Story Company',\n",
       "   'origin_country': 'US'},\n",
       "  {'id': 174,\n",
       "   'logo_path': '/IuAlhI9eVC9Z8UQWOIDdWRKSEJ.png',\n",
       "   'name': 'Warner Bros. Pictures',\n",
       "   'origin_country': 'US'}],\n",
       " 'production_countries': [{'iso_3166_1': 'US',\n",
       "   'name': 'United States of America'}],\n",
       " 'release_date': '2021-02-10',\n",
       " 'revenue': 136536687,\n",
       " 'runtime': 101,\n",
       " 'spoken_languages': [{'english_name': 'English',\n",
       "   'iso_639_1': 'en',\n",
       "   'name': 'English'}],\n",
       " 'status': 'Released',\n",
       " 'tagline': 'Best of enemies. Worst of friends.',\n",
       " 'title': 'Tom & Jerry',\n",
       " 'video': False,\n",
       " 'vote_average': 6.9,\n",
       " 'vote_count': 2243,\n",
       " 'certification': 'PG'}"
      ]
     },
     "execution_count": 31,
     "metadata": {},
     "output_type": "execute_result"
    }
   ],
   "source": [
    "info"
   ]
  },
  {
   "cell_type": "code",
   "execution_count": null,
   "id": "fe05d20a",
   "metadata": {},
   "outputs": [],
   "source": [
    "movie = tmdb.Movies('tt1361336')\n",
    "\n"
   ]
  },
  {
   "cell_type": "code",
   "execution_count": 143,
   "id": "64bc7e56",
   "metadata": {},
   "outputs": [
    {
     "data": {
      "text/plain": [
       "{'adult': False,\n",
       " 'backdrop_path': '/9BBTo63ANSmhC4e6r62OJFuK2GL.jpg',\n",
       " 'belongs_to_collection': {'id': 86311,\n",
       "  'name': 'The Avengers Collection',\n",
       "  'poster_path': '/yFSIUVTCvgYrpalUktulvk3Gi5Y.jpg',\n",
       "  'backdrop_path': '/zuW6fOiusv4X9nnW3paHGfXcSll.jpg'},\n",
       " 'budget': 220000000,\n",
       " 'genres': [{'id': 878, 'name': 'Science Fiction'},\n",
       "  {'id': 28, 'name': 'Action'},\n",
       "  {'id': 12, 'name': 'Adventure'}],\n",
       " 'homepage': 'https://www.marvel.com/movies/the-avengers',\n",
       " 'id': 24428,\n",
       " 'imdb_id': 'tt0848228',\n",
       " 'original_language': 'en',\n",
       " 'original_title': 'The Avengers',\n",
       " 'overview': 'When an unexpected enemy emerges and threatens global safety and security, Nick Fury, director of the international peacekeeping agency known as S.H.I.E.L.D., finds himself in need of a team to pull the world back from the brink of disaster. Spanning the globe, a daring recruitment effort begins!',\n",
       " 'popularity': 150.659,\n",
       " 'poster_path': '/RYMX2wcKCBAr24UyPD7xwmjaTn.jpg',\n",
       " 'production_companies': [{'id': 420,\n",
       "   'logo_path': '/hUzeosd33nzE5MCNsZxCGEKTXaQ.png',\n",
       "   'name': 'Marvel Studios',\n",
       "   'origin_country': 'US'}],\n",
       " 'production_countries': [{'iso_3166_1': 'US',\n",
       "   'name': 'United States of America'}],\n",
       " 'release_date': '2012-04-25',\n",
       " 'revenue': 1518815515,\n",
       " 'runtime': 143,\n",
       " 'spoken_languages': [{'english_name': 'English',\n",
       "   'iso_639_1': 'en',\n",
       "   'name': 'English'},\n",
       "  {'english_name': 'Hindi', 'iso_639_1': 'hi', 'name': 'हिन्दी'},\n",
       "  {'english_name': 'Russian', 'iso_639_1': 'ru', 'name': 'Pусский'}],\n",
       " 'status': 'Released',\n",
       " 'tagline': 'Some assembly required.',\n",
       " 'title': 'The Avengers',\n",
       " 'video': False,\n",
       " 'vote_average': 7.709,\n",
       " 'vote_count': 28816,\n",
       " 'certification': 'PG-13'}"
      ]
     },
     "execution_count": 143,
     "metadata": {},
     "output_type": "execute_result"
    }
   ],
   "source": [
    "test = get_movie_with_rating(\"tt0848228\") \n",
    "test"
   ]
  },
  {
   "cell_type": "code",
   "execution_count": null,
   "id": "21d163d8",
   "metadata": {},
   "outputs": [],
   "source": []
  },
  {
   "cell_type": "code",
   "execution_count": null,
   "id": "bd4b0224",
   "metadata": {},
   "outputs": [],
   "source": []
  },
  {
   "cell_type": "code",
   "execution_count": null,
   "id": "62ae1ef7",
   "metadata": {},
   "outputs": [],
   "source": []
  },
  {
   "cell_type": "code",
   "execution_count": null,
   "id": "6d86122f",
   "metadata": {},
   "outputs": [],
   "source": []
  },
  {
   "cell_type": "code",
   "execution_count": null,
   "id": "1c8c13ae",
   "metadata": {},
   "outputs": [],
   "source": []
  },
  {
   "cell_type": "code",
   "execution_count": 144,
   "id": "6adcea69",
   "metadata": {},
   "outputs": [
    {
     "data": {
      "text/html": [
       "<div>\n",
       "<style scoped>\n",
       "    .dataframe tbody tr th:only-of-type {\n",
       "        vertical-align: middle;\n",
       "    }\n",
       "\n",
       "    .dataframe tbody tr th {\n",
       "        vertical-align: top;\n",
       "    }\n",
       "\n",
       "    .dataframe thead th {\n",
       "        text-align: right;\n",
       "    }\n",
       "</style>\n",
       "<table border=\"1\" class=\"dataframe\">\n",
       "  <thead>\n",
       "    <tr style=\"text-align: right;\">\n",
       "      <th></th>\n",
       "      <th>adult</th>\n",
       "      <th>backdrop_path</th>\n",
       "      <th>belongs_to_collection</th>\n",
       "      <th>budget</th>\n",
       "      <th>genres</th>\n",
       "      <th>homepage</th>\n",
       "      <th>id</th>\n",
       "      <th>imdb_id</th>\n",
       "      <th>original_language</th>\n",
       "      <th>original_title</th>\n",
       "      <th>...</th>\n",
       "      <th>revenue</th>\n",
       "      <th>runtime</th>\n",
       "      <th>spoken_languages</th>\n",
       "      <th>status</th>\n",
       "      <th>tagline</th>\n",
       "      <th>title</th>\n",
       "      <th>video</th>\n",
       "      <th>vote_average</th>\n",
       "      <th>vote_count</th>\n",
       "      <th>certification</th>\n",
       "    </tr>\n",
       "  </thead>\n",
       "  <tbody>\n",
       "    <tr>\n",
       "      <th>0</th>\n",
       "      <td>False</td>\n",
       "      <td>/9BBTo63ANSmhC4e6r62OJFuK2GL.jpg</td>\n",
       "      <td>{'id': 86311, 'name': 'The Avengers Collection...</td>\n",
       "      <td>220000000</td>\n",
       "      <td>[{'id': 878, 'name': 'Science Fiction'}, {'id'...</td>\n",
       "      <td>https://www.marvel.com/movies/the-avengers</td>\n",
       "      <td>24428</td>\n",
       "      <td>tt0848228</td>\n",
       "      <td>en</td>\n",
       "      <td>The Avengers</td>\n",
       "      <td>...</td>\n",
       "      <td>1518815515</td>\n",
       "      <td>143</td>\n",
       "      <td>[{'english_name': 'English', 'iso_639_1': 'en'...</td>\n",
       "      <td>Released</td>\n",
       "      <td>Some assembly required.</td>\n",
       "      <td>The Avengers</td>\n",
       "      <td>False</td>\n",
       "      <td>7.709</td>\n",
       "      <td>28816</td>\n",
       "      <td>PG-13</td>\n",
       "    </tr>\n",
       "    <tr>\n",
       "      <th>1</th>\n",
       "      <td>False</td>\n",
       "      <td>/9BBTo63ANSmhC4e6r62OJFuK2GL.jpg</td>\n",
       "      <td>{'id': 86311, 'name': 'The Avengers Collection...</td>\n",
       "      <td>220000000</td>\n",
       "      <td>[{'id': 878, 'name': 'Science Fiction'}, {'id'...</td>\n",
       "      <td>https://www.marvel.com/movies/the-avengers</td>\n",
       "      <td>24428</td>\n",
       "      <td>tt0848228</td>\n",
       "      <td>en</td>\n",
       "      <td>The Avengers</td>\n",
       "      <td>...</td>\n",
       "      <td>1518815515</td>\n",
       "      <td>143</td>\n",
       "      <td>[{'english_name': 'English', 'iso_639_1': 'en'...</td>\n",
       "      <td>Released</td>\n",
       "      <td>Some assembly required.</td>\n",
       "      <td>The Avengers</td>\n",
       "      <td>False</td>\n",
       "      <td>7.709</td>\n",
       "      <td>28816</td>\n",
       "      <td>PG-13</td>\n",
       "    </tr>\n",
       "    <tr>\n",
       "      <th>2</th>\n",
       "      <td>False</td>\n",
       "      <td>/qom1SZSENdmHFNZBXbtJAU0WTlC.jpg</td>\n",
       "      <td>None</td>\n",
       "      <td>29000000</td>\n",
       "      <td>[{'id': 10749, 'name': 'Romance'}, {'id': 18, ...</td>\n",
       "      <td>http://www.newline.com/properties/notebookthe....</td>\n",
       "      <td>11036</td>\n",
       "      <td>tt0332280</td>\n",
       "      <td>en</td>\n",
       "      <td>The Notebook</td>\n",
       "      <td>...</td>\n",
       "      <td>115603229</td>\n",
       "      <td>123</td>\n",
       "      <td>[{'english_name': 'English', 'iso_639_1': 'en'...</td>\n",
       "      <td>Released</td>\n",
       "      <td>Behind every great love is a great story.</td>\n",
       "      <td>The Notebook</td>\n",
       "      <td>False</td>\n",
       "      <td>7.880</td>\n",
       "      <td>10406</td>\n",
       "      <td>PG-13</td>\n",
       "    </tr>\n",
       "  </tbody>\n",
       "</table>\n",
       "<p>3 rows × 26 columns</p>\n",
       "</div>"
      ],
      "text/plain": [
       "   adult                     backdrop_path  \\\n",
       "0  False  /9BBTo63ANSmhC4e6r62OJFuK2GL.jpg   \n",
       "1  False  /9BBTo63ANSmhC4e6r62OJFuK2GL.jpg   \n",
       "2  False  /qom1SZSENdmHFNZBXbtJAU0WTlC.jpg   \n",
       "\n",
       "                               belongs_to_collection     budget  \\\n",
       "0  {'id': 86311, 'name': 'The Avengers Collection...  220000000   \n",
       "1  {'id': 86311, 'name': 'The Avengers Collection...  220000000   \n",
       "2                                               None   29000000   \n",
       "\n",
       "                                              genres  \\\n",
       "0  [{'id': 878, 'name': 'Science Fiction'}, {'id'...   \n",
       "1  [{'id': 878, 'name': 'Science Fiction'}, {'id'...   \n",
       "2  [{'id': 10749, 'name': 'Romance'}, {'id': 18, ...   \n",
       "\n",
       "                                            homepage     id    imdb_id  \\\n",
       "0         https://www.marvel.com/movies/the-avengers  24428  tt0848228   \n",
       "1         https://www.marvel.com/movies/the-avengers  24428  tt0848228   \n",
       "2  http://www.newline.com/properties/notebookthe....  11036  tt0332280   \n",
       "\n",
       "  original_language original_title  ...     revenue  runtime  \\\n",
       "0                en   The Avengers  ...  1518815515      143   \n",
       "1                en   The Avengers  ...  1518815515      143   \n",
       "2                en   The Notebook  ...   115603229      123   \n",
       "\n",
       "                                    spoken_languages    status  \\\n",
       "0  [{'english_name': 'English', 'iso_639_1': 'en'...  Released   \n",
       "1  [{'english_name': 'English', 'iso_639_1': 'en'...  Released   \n",
       "2  [{'english_name': 'English', 'iso_639_1': 'en'...  Released   \n",
       "\n",
       "                                     tagline         title  video  \\\n",
       "0                    Some assembly required.  The Avengers  False   \n",
       "1                    Some assembly required.  The Avengers  False   \n",
       "2  Behind every great love is a great story.  The Notebook  False   \n",
       "\n",
       "   vote_average vote_count certification  \n",
       "0         7.709      28816         PG-13  \n",
       "1         7.709      28816         PG-13  \n",
       "2         7.880      10406         PG-13  \n",
       "\n",
       "[3 rows x 26 columns]"
      ]
     },
     "execution_count": 144,
     "metadata": {},
     "output_type": "execute_result"
    }
   ],
   "source": [
    "import pandas as pd\n",
    "test_ids = [\"tt0848228\", \"tt0115937\",\"tt0848228\",\"tt0332280\"]\n",
    "results = []\n",
    "for movie_id in test_ids:\n",
    "    \n",
    "    try:\n",
    "        movie_info = get_movie_with_rating(movie_id)\n",
    "        results.append(movie_info)\n",
    "    \n",
    "    except:\n",
    "        pass\n",
    "    \n",
    "pd.DataFrame(results)"
   ]
  },
  {
   "cell_type": "code",
   "execution_count": 145,
   "id": "5de4683c",
   "metadata": {},
   "outputs": [
    {
     "data": {
      "text/html": [
       "<div>\n",
       "<style scoped>\n",
       "    .dataframe tbody tr th:only-of-type {\n",
       "        vertical-align: middle;\n",
       "    }\n",
       "\n",
       "    .dataframe tbody tr th {\n",
       "        vertical-align: top;\n",
       "    }\n",
       "\n",
       "    .dataframe thead th {\n",
       "        text-align: right;\n",
       "    }\n",
       "</style>\n",
       "<table border=\"1\" class=\"dataframe\">\n",
       "  <thead>\n",
       "    <tr style=\"text-align: right;\">\n",
       "      <th></th>\n",
       "      <th>adult</th>\n",
       "      <th>backdrop_path</th>\n",
       "      <th>belongs_to_collection</th>\n",
       "      <th>budget</th>\n",
       "      <th>genres</th>\n",
       "      <th>homepage</th>\n",
       "      <th>id</th>\n",
       "      <th>imdb_id</th>\n",
       "      <th>original_language</th>\n",
       "      <th>original_title</th>\n",
       "      <th>...</th>\n",
       "      <th>revenue</th>\n",
       "      <th>runtime</th>\n",
       "      <th>spoken_languages</th>\n",
       "      <th>status</th>\n",
       "      <th>tagline</th>\n",
       "      <th>title</th>\n",
       "      <th>video</th>\n",
       "      <th>vote_average</th>\n",
       "      <th>vote_count</th>\n",
       "      <th>certification</th>\n",
       "    </tr>\n",
       "  </thead>\n",
       "  <tbody>\n",
       "    <tr>\n",
       "      <th>0</th>\n",
       "      <td>False</td>\n",
       "      <td>/9BBTo63ANSmhC4e6r62OJFuK2GL.jpg</td>\n",
       "      <td>{'id': 86311, 'name': 'The Avengers Collection...</td>\n",
       "      <td>220000000</td>\n",
       "      <td>[{'id': 878, 'name': 'Science Fiction'}, {'id'...</td>\n",
       "      <td>https://www.marvel.com/movies/the-avengers</td>\n",
       "      <td>24428</td>\n",
       "      <td>tt0848228</td>\n",
       "      <td>en</td>\n",
       "      <td>The Avengers</td>\n",
       "      <td>...</td>\n",
       "      <td>1518815515</td>\n",
       "      <td>143</td>\n",
       "      <td>[{'english_name': 'English', 'iso_639_1': 'en'...</td>\n",
       "      <td>Released</td>\n",
       "      <td>Some assembly required.</td>\n",
       "      <td>The Avengers</td>\n",
       "      <td>False</td>\n",
       "      <td>7.709</td>\n",
       "      <td>28816</td>\n",
       "      <td>PG-13</td>\n",
       "    </tr>\n",
       "    <tr>\n",
       "      <th>1</th>\n",
       "      <td>False</td>\n",
       "      <td>/9BBTo63ANSmhC4e6r62OJFuK2GL.jpg</td>\n",
       "      <td>{'id': 86311, 'name': 'The Avengers Collection...</td>\n",
       "      <td>220000000</td>\n",
       "      <td>[{'id': 878, 'name': 'Science Fiction'}, {'id'...</td>\n",
       "      <td>https://www.marvel.com/movies/the-avengers</td>\n",
       "      <td>24428</td>\n",
       "      <td>tt0848228</td>\n",
       "      <td>en</td>\n",
       "      <td>The Avengers</td>\n",
       "      <td>...</td>\n",
       "      <td>1518815515</td>\n",
       "      <td>143</td>\n",
       "      <td>[{'english_name': 'English', 'iso_639_1': 'en'...</td>\n",
       "      <td>Released</td>\n",
       "      <td>Some assembly required.</td>\n",
       "      <td>The Avengers</td>\n",
       "      <td>False</td>\n",
       "      <td>7.709</td>\n",
       "      <td>28816</td>\n",
       "      <td>PG-13</td>\n",
       "    </tr>\n",
       "    <tr>\n",
       "      <th>2</th>\n",
       "      <td>False</td>\n",
       "      <td>/qom1SZSENdmHFNZBXbtJAU0WTlC.jpg</td>\n",
       "      <td>None</td>\n",
       "      <td>29000000</td>\n",
       "      <td>[{'id': 10749, 'name': 'Romance'}, {'id': 18, ...</td>\n",
       "      <td>http://www.newline.com/properties/notebookthe....</td>\n",
       "      <td>11036</td>\n",
       "      <td>tt0332280</td>\n",
       "      <td>en</td>\n",
       "      <td>The Notebook</td>\n",
       "      <td>...</td>\n",
       "      <td>115603229</td>\n",
       "      <td>123</td>\n",
       "      <td>[{'english_name': 'English', 'iso_639_1': 'en'...</td>\n",
       "      <td>Released</td>\n",
       "      <td>Behind every great love is a great story.</td>\n",
       "      <td>The Notebook</td>\n",
       "      <td>False</td>\n",
       "      <td>7.880</td>\n",
       "      <td>10406</td>\n",
       "      <td>PG-13</td>\n",
       "    </tr>\n",
       "  </tbody>\n",
       "</table>\n",
       "<p>3 rows × 26 columns</p>\n",
       "</div>"
      ],
      "text/plain": [
       "   adult                     backdrop_path  \\\n",
       "0  False  /9BBTo63ANSmhC4e6r62OJFuK2GL.jpg   \n",
       "1  False  /9BBTo63ANSmhC4e6r62OJFuK2GL.jpg   \n",
       "2  False  /qom1SZSENdmHFNZBXbtJAU0WTlC.jpg   \n",
       "\n",
       "                               belongs_to_collection     budget  \\\n",
       "0  {'id': 86311, 'name': 'The Avengers Collection...  220000000   \n",
       "1  {'id': 86311, 'name': 'The Avengers Collection...  220000000   \n",
       "2                                               None   29000000   \n",
       "\n",
       "                                              genres  \\\n",
       "0  [{'id': 878, 'name': 'Science Fiction'}, {'id'...   \n",
       "1  [{'id': 878, 'name': 'Science Fiction'}, {'id'...   \n",
       "2  [{'id': 10749, 'name': 'Romance'}, {'id': 18, ...   \n",
       "\n",
       "                                            homepage     id    imdb_id  \\\n",
       "0         https://www.marvel.com/movies/the-avengers  24428  tt0848228   \n",
       "1         https://www.marvel.com/movies/the-avengers  24428  tt0848228   \n",
       "2  http://www.newline.com/properties/notebookthe....  11036  tt0332280   \n",
       "\n",
       "  original_language original_title  ...     revenue  runtime  \\\n",
       "0                en   The Avengers  ...  1518815515      143   \n",
       "1                en   The Avengers  ...  1518815515      143   \n",
       "2                en   The Notebook  ...   115603229      123   \n",
       "\n",
       "                                    spoken_languages    status  \\\n",
       "0  [{'english_name': 'English', 'iso_639_1': 'en'...  Released   \n",
       "1  [{'english_name': 'English', 'iso_639_1': 'en'...  Released   \n",
       "2  [{'english_name': 'English', 'iso_639_1': 'en'...  Released   \n",
       "\n",
       "                                     tagline         title  video  \\\n",
       "0                    Some assembly required.  The Avengers  False   \n",
       "1                    Some assembly required.  The Avengers  False   \n",
       "2  Behind every great love is a great story.  The Notebook  False   \n",
       "\n",
       "   vote_average vote_count certification  \n",
       "0         7.709      28816         PG-13  \n",
       "1         7.709      28816         PG-13  \n",
       "2         7.880      10406         PG-13  \n",
       "\n",
       "[3 rows x 26 columns]"
      ]
     },
     "execution_count": 145,
     "metadata": {},
     "output_type": "execute_result"
    }
   ],
   "source": [
    "import pandas as pd\n",
    "test_ids = [\"tt0848228\", \"tt0115937\",\"tt0848228\",\"tt0332280\"]\n",
    "results = []\n",
    "errors = []\n",
    "for movie_id in test_ids:\n",
    "    \n",
    "    try:\n",
    "        movie_info = get_movie_with_rating(movie_id)\n",
    "        results.append(movie_info)\n",
    "        \n",
    "    except Exception as e: \n",
    "        errors.append([movie_id, e])\n",
    "    \n",
    "pd.DataFrame(results)"
   ]
  },
  {
   "cell_type": "code",
   "execution_count": 146,
   "id": "9677b398",
   "metadata": {},
   "outputs": [
    {
     "name": "stdout",
     "output_type": "stream",
     "text": [
      "- Number of errors: 1\n"
     ]
    },
    {
     "data": {
      "text/plain": [
       "[['tt0115937',\n",
       "  requests.exceptions.HTTPError('404 Client Error: Not Found for url: https://api.themoviedb.org/3/movie/tt0115937?api_key=cd8eb592faf296ae4a3e9a1cbf797389')]]"
      ]
     },
     "execution_count": 146,
     "metadata": {},
     "output_type": "execute_result"
    }
   ],
   "source": [
    "print(f\"- Number of errors: {len(errors)}\")\n",
    "errors"
   ]
  },
  {
   "cell_type": "code",
   "execution_count": null,
   "id": "c470e830",
   "metadata": {},
   "outputs": [],
   "source": []
  },
  {
   "cell_type": "code",
   "execution_count": null,
   "id": "263facc7",
   "metadata": {},
   "outputs": [],
   "source": []
  },
  {
   "cell_type": "code",
   "execution_count": null,
   "id": "0c163d2d",
   "metadata": {},
   "outputs": [],
   "source": []
  },
  {
   "cell_type": "markdown",
   "id": "2f3d09be",
   "metadata": {},
   "source": [
    "## Efficient TMDB API Calls"
   ]
  },
  {
   "cell_type": "code",
   "execution_count": 147,
   "id": "75e85115",
   "metadata": {},
   "outputs": [
    {
     "data": {
      "text/plain": [
       "['tmdb_api_results_2000.json']"
      ]
     },
     "execution_count": 147,
     "metadata": {},
     "output_type": "execute_result"
    }
   ],
   "source": [
    "import os, time,json\n",
    "import tmdbsimple as tmdb \n",
    "import pandas as pd\n",
    "FOLDER = \"Data/\"\n",
    "os.makedirs(FOLDER, exist_ok=True)\n",
    "os.listdir(FOLDER)"
   ]
  },
  {
   "cell_type": "code",
   "execution_count": 148,
   "id": "e1cdc6c6",
   "metadata": {},
   "outputs": [],
   "source": [
    "def write_json(new_data, filename): \n",
    "    \"\"\"Appends a list of records (new_data) to a json file (filename). \n",
    "    Adapted from: https://www.geeksforgeeks.org/append-to-json-file-using-python/\"\"\"  \n",
    "    \n",
    "    with open(filename,'r+') as file:\n",
    "        # First we load existing data into a dict.\n",
    "        file_data = json.load(file)\n",
    "        ## Choose extend or append\n",
    "        if (type(new_data) == list) & (type(file_data) == list):\n",
    "            file_data.extend(new_data)\n",
    "        else:\n",
    "             file_data.append(new_data)\n",
    "        # Sets file's current position at offset.\n",
    "        file.seek(0)\n",
    "        # convert back to json.\n",
    "        json.dump(file_data, file)"
   ]
  },
  {
   "cell_type": "code",
   "execution_count": 149,
   "id": "a9b53737",
   "metadata": {
    "scrolled": false
   },
   "outputs": [
    {
     "data": {
      "text/html": [
       "<div>\n",
       "<style scoped>\n",
       "    .dataframe tbody tr th:only-of-type {\n",
       "        vertical-align: middle;\n",
       "    }\n",
       "\n",
       "    .dataframe tbody tr th {\n",
       "        vertical-align: top;\n",
       "    }\n",
       "\n",
       "    .dataframe thead th {\n",
       "        text-align: right;\n",
       "    }\n",
       "</style>\n",
       "<table border=\"1\" class=\"dataframe\">\n",
       "  <thead>\n",
       "    <tr style=\"text-align: right;\">\n",
       "      <th></th>\n",
       "      <th>tconst</th>\n",
       "      <th>titleType</th>\n",
       "      <th>primaryTitle</th>\n",
       "      <th>originalTitle</th>\n",
       "      <th>isAdult</th>\n",
       "      <th>startYear</th>\n",
       "      <th>endYear</th>\n",
       "      <th>runtimeMinutes</th>\n",
       "      <th>genres</th>\n",
       "    </tr>\n",
       "  </thead>\n",
       "  <tbody>\n",
       "    <tr>\n",
       "      <th>0</th>\n",
       "      <td>tt0000002</td>\n",
       "      <td>short</td>\n",
       "      <td>Le clown et ses chiens</td>\n",
       "      <td>Le clown et ses chiens</td>\n",
       "      <td>0</td>\n",
       "      <td>1892.0</td>\n",
       "      <td>NaN</td>\n",
       "      <td>5</td>\n",
       "      <td>Animation,Short</td>\n",
       "    </tr>\n",
       "    <tr>\n",
       "      <th>1</th>\n",
       "      <td>tt0000003</td>\n",
       "      <td>short</td>\n",
       "      <td>Pauvre Pierrot</td>\n",
       "      <td>Pauvre Pierrot</td>\n",
       "      <td>0</td>\n",
       "      <td>1892.0</td>\n",
       "      <td>NaN</td>\n",
       "      <td>4</td>\n",
       "      <td>Animation,Comedy,Romance</td>\n",
       "    </tr>\n",
       "    <tr>\n",
       "      <th>2</th>\n",
       "      <td>tt0000004</td>\n",
       "      <td>short</td>\n",
       "      <td>Un bon bock</td>\n",
       "      <td>Un bon bock</td>\n",
       "      <td>0</td>\n",
       "      <td>1892.0</td>\n",
       "      <td>NaN</td>\n",
       "      <td>12</td>\n",
       "      <td>Animation,Short</td>\n",
       "    </tr>\n",
       "    <tr>\n",
       "      <th>3</th>\n",
       "      <td>tt0000005</td>\n",
       "      <td>short</td>\n",
       "      <td>Blacksmith Scene</td>\n",
       "      <td>Blacksmith Scene</td>\n",
       "      <td>0</td>\n",
       "      <td>1893.0</td>\n",
       "      <td>NaN</td>\n",
       "      <td>1</td>\n",
       "      <td>Comedy,Short</td>\n",
       "    </tr>\n",
       "    <tr>\n",
       "      <th>4</th>\n",
       "      <td>tt0000006</td>\n",
       "      <td>short</td>\n",
       "      <td>Chinese Opium Den</td>\n",
       "      <td>Chinese Opium Den</td>\n",
       "      <td>0</td>\n",
       "      <td>1894.0</td>\n",
       "      <td>NaN</td>\n",
       "      <td>1</td>\n",
       "      <td>Short</td>\n",
       "    </tr>\n",
       "  </tbody>\n",
       "</table>\n",
       "</div>"
      ],
      "text/plain": [
       "      tconst titleType            primaryTitle           originalTitle  \\\n",
       "0  tt0000002     short  Le clown et ses chiens  Le clown et ses chiens   \n",
       "1  tt0000003     short          Pauvre Pierrot          Pauvre Pierrot   \n",
       "2  tt0000004     short             Un bon bock             Un bon bock   \n",
       "3  tt0000005     short        Blacksmith Scene        Blacksmith Scene   \n",
       "4  tt0000006     short       Chinese Opium Den       Chinese Opium Den   \n",
       "\n",
       "   isAdult  startYear  endYear  runtimeMinutes                    genres  \n",
       "0        0     1892.0      NaN               5           Animation,Short  \n",
       "1        0     1892.0      NaN               4  Animation,Comedy,Romance  \n",
       "2        0     1892.0      NaN              12           Animation,Short  \n",
       "3        0     1893.0      NaN               1              Comedy,Short  \n",
       "4        0     1894.0      NaN               1                     Short  "
      ]
     },
     "execution_count": 149,
     "metadata": {},
     "output_type": "execute_result"
    }
   ],
   "source": [
    "df_basics = pd.read_csv(r'\\Users\\valma\\OneDrive\\Documents\\GitHub\\Project-3-Part-1\\Data\\title_basics.csv.gz')\n",
    "df_basics.head()"
   ]
  },
  {
   "cell_type": "code",
   "execution_count": 150,
   "id": "2e34c820",
   "metadata": {},
   "outputs": [],
   "source": [
    "years_to_get = [2000,2001]\n"
   ]
  },
  {
   "cell_type": "code",
   "execution_count": 151,
   "id": "2049aeb0",
   "metadata": {},
   "outputs": [],
   "source": [
    "errors = []"
   ]
  },
  {
   "cell_type": "code",
   "execution_count": 165,
   "id": "cd593b2a",
   "metadata": {},
   "outputs": [
    {
     "ename": "IndentationError",
     "evalue": "expected an indented block (858243965.py, line 1)",
     "output_type": "error",
     "traceback": [
      "\u001b[1;36m  Cell \u001b[1;32mIn [165], line 1\u001b[1;36m\u001b[0m\n\u001b[1;33m    for YEAR in tqdm_notebook(years_to_get, desc='YEARS', position=0):\u001b[0m\n\u001b[1;37m                                                                      ^\u001b[0m\n\u001b[1;31mIndentationError\u001b[0m\u001b[1;31m:\u001b[0m expected an indented block\n"
     ]
    }
   ],
   "source": [
    "for YEAR in tqdm_notebook(years_to_get, desc='YEARS', position=0):"
   ]
  },
  {
   "cell_type": "code",
   "execution_count": 153,
   "id": "d18cb278",
   "metadata": {},
   "outputs": [],
   "source": [
    "YEAR = 2000"
   ]
  },
  {
   "cell_type": "code",
   "execution_count": 154,
   "id": "41bb38ef",
   "metadata": {},
   "outputs": [],
   "source": [
    "JSON_FILE = f'{FOLDER}tmdb_api_results_{YEAR}.json'\n"
   ]
  },
  {
   "cell_type": "code",
   "execution_count": 155,
   "id": "5da0cbec",
   "metadata": {},
   "outputs": [],
   "source": [
    "file_exists = os.path.isfile(JSON_FILE)\n"
   ]
  },
  {
   "cell_type": "code",
   "execution_count": 156,
   "id": "e801f221",
   "metadata": {},
   "outputs": [],
   "source": [
    "if file_exists == False:\n",
    "\n",
    "    with open(JSON_FILE,'w') as f:\n",
    "        json.dump([{'imdb_id':0}],f)"
   ]
  },
  {
   "cell_type": "code",
   "execution_count": 157,
   "id": "a007b962",
   "metadata": {},
   "outputs": [
    {
     "data": {
      "text/html": [
       "<div>\n",
       "<style scoped>\n",
       "    .dataframe tbody tr th:only-of-type {\n",
       "        vertical-align: middle;\n",
       "    }\n",
       "\n",
       "    .dataframe tbody tr th {\n",
       "        vertical-align: top;\n",
       "    }\n",
       "\n",
       "    .dataframe thead th {\n",
       "        text-align: right;\n",
       "    }\n",
       "</style>\n",
       "<table border=\"1\" class=\"dataframe\">\n",
       "  <thead>\n",
       "    <tr style=\"text-align: right;\">\n",
       "      <th></th>\n",
       "      <th>tconst</th>\n",
       "      <th>titleType</th>\n",
       "      <th>primaryTitle</th>\n",
       "      <th>originalTitle</th>\n",
       "      <th>isAdult</th>\n",
       "      <th>startYear</th>\n",
       "      <th>endYear</th>\n",
       "      <th>runtimeMinutes</th>\n",
       "      <th>genres</th>\n",
       "    </tr>\n",
       "  </thead>\n",
       "  <tbody>\n",
       "    <tr>\n",
       "      <th>0</th>\n",
       "      <td>tt0000002</td>\n",
       "      <td>short</td>\n",
       "      <td>Le clown et ses chiens</td>\n",
       "      <td>Le clown et ses chiens</td>\n",
       "      <td>0</td>\n",
       "      <td>1892.0</td>\n",
       "      <td>NaN</td>\n",
       "      <td>5</td>\n",
       "      <td>Animation,Short</td>\n",
       "    </tr>\n",
       "    <tr>\n",
       "      <th>1</th>\n",
       "      <td>tt0000003</td>\n",
       "      <td>short</td>\n",
       "      <td>Pauvre Pierrot</td>\n",
       "      <td>Pauvre Pierrot</td>\n",
       "      <td>0</td>\n",
       "      <td>1892.0</td>\n",
       "      <td>NaN</td>\n",
       "      <td>4</td>\n",
       "      <td>Animation,Comedy,Romance</td>\n",
       "    </tr>\n",
       "    <tr>\n",
       "      <th>2</th>\n",
       "      <td>tt0000004</td>\n",
       "      <td>short</td>\n",
       "      <td>Un bon bock</td>\n",
       "      <td>Un bon bock</td>\n",
       "      <td>0</td>\n",
       "      <td>1892.0</td>\n",
       "      <td>NaN</td>\n",
       "      <td>12</td>\n",
       "      <td>Animation,Short</td>\n",
       "    </tr>\n",
       "    <tr>\n",
       "      <th>3</th>\n",
       "      <td>tt0000005</td>\n",
       "      <td>short</td>\n",
       "      <td>Blacksmith Scene</td>\n",
       "      <td>Blacksmith Scene</td>\n",
       "      <td>0</td>\n",
       "      <td>1893.0</td>\n",
       "      <td>NaN</td>\n",
       "      <td>1</td>\n",
       "      <td>Comedy,Short</td>\n",
       "    </tr>\n",
       "    <tr>\n",
       "      <th>4</th>\n",
       "      <td>tt0000006</td>\n",
       "      <td>short</td>\n",
       "      <td>Chinese Opium Den</td>\n",
       "      <td>Chinese Opium Den</td>\n",
       "      <td>0</td>\n",
       "      <td>1894.0</td>\n",
       "      <td>NaN</td>\n",
       "      <td>1</td>\n",
       "      <td>Short</td>\n",
       "    </tr>\n",
       "  </tbody>\n",
       "</table>\n",
       "</div>"
      ],
      "text/plain": [
       "      tconst titleType            primaryTitle           originalTitle  \\\n",
       "0  tt0000002     short  Le clown et ses chiens  Le clown et ses chiens   \n",
       "1  tt0000003     short          Pauvre Pierrot          Pauvre Pierrot   \n",
       "2  tt0000004     short             Un bon bock             Un bon bock   \n",
       "3  tt0000005     short        Blacksmith Scene        Blacksmith Scene   \n",
       "4  tt0000006     short       Chinese Opium Den       Chinese Opium Den   \n",
       "\n",
       "   isAdult  startYear  endYear  runtimeMinutes                    genres  \n",
       "0        0     1892.0      NaN               5           Animation,Short  \n",
       "1        0     1892.0      NaN               4  Animation,Comedy,Romance  \n",
       "2        0     1892.0      NaN              12           Animation,Short  \n",
       "3        0     1893.0      NaN               1              Comedy,Short  \n",
       "4        0     1894.0      NaN               1                     Short  "
      ]
     },
     "execution_count": 157,
     "metadata": {},
     "output_type": "execute_result"
    }
   ],
   "source": [
    "import pandas as pd \n",
    "basics = pd.read_csv(r'\\Users\\valma\\OneDrive\\Documents\\GitHub\\Project-3-Part-1\\Data\\title_basics.csv.gz')\n",
    "basics.head()"
   ]
  },
  {
   "cell_type": "code",
   "execution_count": 158,
   "id": "b05987b7",
   "metadata": {},
   "outputs": [],
   "source": [
    "df = basics.loc[basics['startYear']==YEAR].copy()"
   ]
  },
  {
   "cell_type": "code",
   "execution_count": 159,
   "id": "8daa8cb6",
   "metadata": {},
   "outputs": [
    {
     "data": {
      "text/plain": [
       "80823      tt0102362\n",
       "87448      tt0111056\n",
       "87816      tt0111522\n",
       "88950      tt0113026\n",
       "89002      tt0113092\n",
       "             ...    \n",
       "2472648    tt9861390\n",
       "2474238    tt9888632\n",
       "2474516    tt9893186\n",
       "2474815    tt9897830\n",
       "2475578    tt9908414\n",
       "Name: tconst, Length: 25041, dtype: object"
      ]
     },
     "execution_count": 159,
     "metadata": {},
     "output_type": "execute_result"
    }
   ],
   "source": [
    "movie_ids = df['tconst'].copy()\n",
    "movie_ids"
   ]
  },
  {
   "cell_type": "code",
   "execution_count": 160,
   "id": "e0015836",
   "metadata": {},
   "outputs": [
    {
     "data": {
      "text/html": [
       "<div>\n",
       "<style scoped>\n",
       "    .dataframe tbody tr th:only-of-type {\n",
       "        vertical-align: middle;\n",
       "    }\n",
       "\n",
       "    .dataframe tbody tr th {\n",
       "        vertical-align: top;\n",
       "    }\n",
       "\n",
       "    .dataframe thead th {\n",
       "        text-align: right;\n",
       "    }\n",
       "</style>\n",
       "<table border=\"1\" class=\"dataframe\">\n",
       "  <thead>\n",
       "    <tr style=\"text-align: right;\">\n",
       "      <th></th>\n",
       "      <th>imdb_id</th>\n",
       "    </tr>\n",
       "  </thead>\n",
       "  <tbody>\n",
       "    <tr>\n",
       "      <th>0</th>\n",
       "      <td>0</td>\n",
       "    </tr>\n",
       "  </tbody>\n",
       "</table>\n",
       "</div>"
      ],
      "text/plain": [
       "   imdb_id\n",
       "0        0"
      ]
     },
     "execution_count": 160,
     "metadata": {},
     "output_type": "execute_result"
    }
   ],
   "source": [
    "previous_df = pd.read_json(JSON_FILE)\n",
    "\n",
    "previous_df"
   ]
  },
  {
   "cell_type": "code",
   "execution_count": 161,
   "id": "6d0ac2be",
   "metadata": {},
   "outputs": [],
   "source": [
    "movie_ids_to_get = movie_ids[~movie_ids.isin(previous_df['imdb_id'])]"
   ]
  },
  {
   "cell_type": "code",
   "execution_count": 162,
   "id": "2742cddc",
   "metadata": {},
   "outputs": [],
   "source": [
    "def write_json(new_data, filename): \n",
    "    \"\"\"Adapted from: https://www.geeksforgeeks.org/append-to-json-file-using-python/\"\"\"    \n",
    "    \n",
    "    with open(filename,'r+') as file:\n",
    "        # First we load existing data into a dict.\n",
    "        file_data = json.load(file)\n",
    "        ## Choose extend or append\n",
    "        if (type(new_data) == list) & (type(file_data) == list):\n",
    "            file_data.extend(new_data)\n",
    "        else:\n",
    "             file_data.append(new_data)\n",
    "        # Sets file's current position at offset.\n",
    "        file.seek(0)\n",
    "        # convert back to json.\n",
    "        json.dump(file_data, file)"
   ]
  },
  {
   "cell_type": "code",
   "execution_count": 172,
   "id": "715609ba",
   "metadata": {},
   "outputs": [],
   "source": [
    "from tqdm.notebook import tqdm_notebook"
   ]
  },
  {
   "cell_type": "code",
   "execution_count": 173,
   "id": "9611e28a",
   "metadata": {},
   "outputs": [
    {
     "data": {
      "application/vnd.jupyter.widget-view+json": {
       "model_id": "4ded62e904fd43a58510bb2045e1628e",
       "version_major": 2,
       "version_minor": 0
      },
      "text/plain": [
       "Movies from 2000:   0%|          | 0/25041 [00:00<?, ?it/s]"
      ]
     },
     "metadata": {},
     "output_type": "display_data"
    }
   ],
   "source": [
    "for movie_id in tqdm_notebook(movie_ids_to_get,\n",
    "                                  desc=f'Movies from {YEAR}',\n",
    "                                  position=1,\n",
    "                                  leave=True):\n",
    "        try:\n",
    "            # Retrieve then data for the movie id\n",
    "            temp = get_movie_with_rating(movie_id)  \n",
    "            # Append/extend results to existing file using a pre-made function\n",
    "            write_json(temp,JSON_FILE)\n",
    "            # Short 20 ms sleep to prevent overwhelming server\n",
    "            time.sleep(0.02)\n",
    "            \n",
    "        except Exception as e:\n",
    "            errors.append([movie_id, e])"
   ]
  },
  {
   "cell_type": "code",
   "execution_count": 175,
   "id": "d247d938",
   "metadata": {},
   "outputs": [],
   "source": [
    "final_year_df = pd.read_json(JSON_FILE)\n",
    "final_year_df.to_csv(f\"{FOLDER}final_tmdb_data_{YEAR}.csv.gz\", compression=\"gzip\", index=False)"
   ]
  },
  {
   "cell_type": "code",
   "execution_count": null,
   "id": "cfaa4faf",
   "metadata": {},
   "outputs": [],
   "source": []
  }
 ],
 "metadata": {
  "kernelspec": {
   "display_name": "Python (dojo-env)",
   "language": "python",
   "name": "dojo-env"
  },
  "language_info": {
   "codemirror_mode": {
    "name": "ipython",
    "version": 3
   },
   "file_extension": ".py",
   "mimetype": "text/x-python",
   "name": "python",
   "nbconvert_exporter": "python",
   "pygments_lexer": "ipython3",
   "version": "3.9.15"
  },
  "toc": {
   "base_numbering": 1,
   "nav_menu": {},
   "number_sections": false,
   "sideBar": true,
   "skip_h1_title": false,
   "title_cell": "Table of Contents",
   "title_sidebar": "Contents",
   "toc_cell": false,
   "toc_position": {
    "height": "calc(100% - 180px)",
    "left": "10px",
    "top": "150px",
    "width": "190.188px"
   },
   "toc_section_display": true,
   "toc_window_display": true
  }
 },
 "nbformat": 4,
 "nbformat_minor": 5
}
